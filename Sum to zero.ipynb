{
 "cells": [
  {
   "cell_type": "markdown",
   "id": "275e4b68",
   "metadata": {},
   "source": [
    "#### This program takes 3 numbers from the list of numbers provided and sums them to zero"
   ]
  },
  {
   "cell_type": "code",
   "execution_count": 1,
   "id": "24f85f36",
   "metadata": {},
   "outputs": [
    {
     "name": "stdout",
     "output_type": "stream",
     "text": [
      "Enter a number from the list: -10\n",
      "Enter a second number from the list: 8\n",
      "Enter a third number from the list: 2\n",
      "The sum of the three numbers is 0\n"
     ]
    }
   ],
   "source": [
    "elements = [-25,-10,-7,-3,2,4,8,10]\n",
    "\n",
    "class sum_to_zero:\n",
    "    \n",
    "    def __init__(self,elements):\n",
    "        self.elements = elements\n",
    "        \n",
    "    def summation(self):\n",
    "        \n",
    "        first = int(input(\"Enter a number from the list: \"))\n",
    "        second = int(input(\"Enter a second number from the list: \"))\n",
    "        third = int(input(\"Enter a third number from the list: \"))\n",
    "\n",
    "        while first+second+third != 0:\n",
    "            \n",
    "            print(\"The three numbers did not sum up to zero\")\n",
    "            \n",
    "            first = int(input(\"Enter a number from the list: \"))\n",
    "            second = int(input(\"Enter a second number from the list: \"))\n",
    "            third = int(input(\"Enter a third number from the list: \"))\n",
    "            \n",
    "            print(f'The three numbers are {first},{second},{third}')\n",
    "            \n",
    "        else:\n",
    "            print('The sum of the three numbers is 0')\n",
    "            \n",
    "            \n",
    "solution = sum_to_zero(elements)\n",
    "solution.summation()\n",
    "        "
   ]
  },
  {
   "cell_type": "code",
   "execution_count": null,
   "id": "be08e0ac",
   "metadata": {},
   "outputs": [],
   "source": []
  }
 ],
 "metadata": {
  "kernelspec": {
   "display_name": "Python 3 (ipykernel)",
   "language": "python",
   "name": "python3"
  },
  "language_info": {
   "codemirror_mode": {
    "name": "ipython",
    "version": 3
   },
   "file_extension": ".py",
   "mimetype": "text/x-python",
   "name": "python",
   "nbconvert_exporter": "python",
   "pygments_lexer": "ipython3",
   "version": "3.9.7"
  }
 },
 "nbformat": 4,
 "nbformat_minor": 5
}
