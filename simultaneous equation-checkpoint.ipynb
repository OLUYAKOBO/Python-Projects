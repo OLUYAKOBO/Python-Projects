{
 "cells": [
  {
   "cell_type": "markdown",
   "id": "7bfd9308",
   "metadata": {},
   "source": [
    "#### The value of ad - bc must be greater than zero"
   ]
  },
  {
   "cell_type": "code",
   "execution_count": 8,
   "id": "349e9be1",
   "metadata": {},
   "outputs": [],
   "source": [
    "import numpy as np"
   ]
  },
  {
   "cell_type": "markdown",
   "id": "38832cc7",
   "metadata": {},
   "source": [
    "#####   A simultaneous equation is of the form ax + by = e and cx + dy = f"
   ]
  },
  {
   "cell_type": "code",
   "execution_count": 10,
   "id": "be23d622",
   "metadata": {},
   "outputs": [
    {
     "name": "stdout",
     "output_type": "stream",
     "text": [
      "Enter a value for a: 1\n",
      "Enter a value for b: 0\n",
      "Enter a value for c: 1\n",
      "Enter a value for d: 0\n",
      "Enter a value for e: 3\n",
      "Enter a value for f: 5\n",
      "Enter correct values\n",
      "Enter a value for a: 1\n",
      "Enter a value for b: 3\n",
      "Enter a value for c: 4\n",
      "Enter a value for d: 5\n",
      "Enter a value for e: 6\n",
      "Enter a value for f: 7\n",
      "The values of x and y are :  [-1.28571429  2.42857143]\n"
     ]
    }
   ],
   "source": [
    "a = int(input(\"Enter a value for a: \"))\n",
    "b = int(input(\"Enter a value for b: \"))\n",
    "c = int(input(\"Enter a value for c: \"))\n",
    "d = int(input(\"Enter a value for d: \"))\n",
    "e = int(input(\"Enter a value for e: \"))\n",
    "f = int(input(\"Enter a value for f: \"))\n",
    "\n",
    "while (a*d)-(b*c) == 0:\n",
    "    # ad - bc must be equal to 0 is compulsory for simultaneous equations \n",
    "    print(\"Enter correct values\")\n",
    "    a = int(input(\"Enter a value for a: \"))\n",
    "    b = int(input(\"Enter a value for b: \"))\n",
    "    c = int(input(\"Enter a value for c: \"))\n",
    "    d = int(input(\"Enter a value for d: \"))\n",
    "    e = int(input(\"Enter a value for e: \"))\n",
    "    f = int(input(\"Enter a value for f: \"))\n",
    "else:\n",
    "    A =[[a,b],[c,d]] \n",
    "    B = [e,f]\n",
    "\n",
    "    x = np.linalg.solve(A,B)\n",
    "    print(\"The values of x and y are : \",x)"
   ]
  },
  {
   "cell_type": "code",
   "execution_count": null,
   "id": "024ada10",
   "metadata": {},
   "outputs": [],
   "source": []
  }
 ],
 "metadata": {
  "kernelspec": {
   "display_name": "Python 3 (ipykernel)",
   "language": "python",
   "name": "python3"
  },
  "language_info": {
   "codemirror_mode": {
    "name": "ipython",
    "version": 3
   },
   "file_extension": ".py",
   "mimetype": "text/x-python",
   "name": "python",
   "nbconvert_exporter": "python",
   "pygments_lexer": "ipython3",
   "version": "3.9.7"
  }
 },
 "nbformat": 4,
 "nbformat_minor": 5
}
