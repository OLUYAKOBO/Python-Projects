{
 "cells": [
  {
   "cell_type": "markdown",
   "id": "b5c2596d",
   "metadata": {},
   "source": [
    "#### This program converts a number into its roman numeral form"
   ]
  },
  {
   "cell_type": "code",
   "execution_count": 4,
   "id": "143418b2",
   "metadata": {},
   "outputs": [
    {
     "name": "stdout",
     "output_type": "stream",
     "text": [
      "Enter a number from 1 to 30: 4\n"
     ]
    },
    {
     "data": {
      "text/plain": [
       "'IV'"
      ]
     },
     "execution_count": 4,
     "metadata": {},
     "output_type": "execute_result"
    }
   ],
   "source": [
    "integers = [0,1,2,3,4,5,6,7,8,9,10,11,12,13,14,15,16,17,18,19,20,21,22,23,24,25,26,27,28,29,30]\n",
    "\n",
    "roman = ['O','I','II','III','IV','V','VI','VII','VIII','IX','X','XI','XII','XIII','XIV','XV','XVI','XVII','XVIII',\n",
    "        'XIX','XX','XXI','XXII','XXIII','XXIV','XXV','XXVI','XXVII','XXVIII','XXIX','XXX']\n",
    "\n",
    "class roman_numerals:\n",
    "    \n",
    "    def __init__(self,integers,roman):\n",
    "        self.integers = integers\n",
    "        self.roman = roman\n",
    "        \n",
    "    def return_rn(self):\n",
    "        \n",
    "        user_input = int(input(\"Enter a number from 1 to 30: \"))\n",
    "        return roman[user_input]\n",
    "    \n",
    "show_numerals = roman_numerals(integers,roman)\n",
    "show_numerals.return_rn()"
   ]
  }
 ],
 "metadata": {
  "kernelspec": {
   "display_name": "Python 3 (ipykernel)",
   "language": "python",
   "name": "python3"
  },
  "language_info": {
   "codemirror_mode": {
    "name": "ipython",
    "version": 3
   },
   "file_extension": ".py",
   "mimetype": "text/x-python",
   "name": "python",
   "nbconvert_exporter": "python",
   "pygments_lexer": "ipython3",
   "version": "3.9.7"
  }
 },
 "nbformat": 4,
 "nbformat_minor": 5
}
